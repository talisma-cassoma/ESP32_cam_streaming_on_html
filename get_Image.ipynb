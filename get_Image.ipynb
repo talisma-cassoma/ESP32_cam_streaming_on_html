{
  "nbformat": 4,
  "nbformat_minor": 0,
  "metadata": {
    "colab": {
      "name": "get_Image.ipynb",
      "provenance": [],
      "collapsed_sections": [],
      "mount_file_id": "1VTfsNDCDpPz-OmwSke0um70y6Cmifssk",
      "authorship_tag": "ABX9TyPg85npB6w/hFTgZwMVWyk/",
      "include_colab_link": true
    },
    "kernelspec": {
      "name": "python3",
      "display_name": "Python 3"
    },
    "language_info": {
      "name": "python"
    }
  },
  "cells": [
    {
      "cell_type": "markdown",
      "metadata": {
        "id": "view-in-github",
        "colab_type": "text"
      },
      "source": [
        "<a href=\"https://colab.research.google.com/github/talisma-cassoma/intellcapBot/blob/main/get_Image.ipynb\" target=\"_parent\"><img src=\"https://colab.research.google.com/assets/colab-badge.svg\" alt=\"Open In Colab\"/></a>"
      ]
    },
    {
      "cell_type": "code",
      "metadata": {
        "id": "vm1yy2Wsjk0r",
        "colab": {
          "base_uri": "https://localhost:8080/"
        },
        "outputId": "00463dc3-cc53-4e1b-eb61-95d65746c2eb"
      },
      "source": [
        "!pip install firebase-admin"
      ],
      "execution_count": null,
      "outputs": [
        {
          "output_type": "stream",
          "text": [
            "Requirement already satisfied: firebase-admin in /usr/local/lib/python3.7/dist-packages (4.4.0)\n",
            "Requirement already satisfied: google-cloud-firestore>=1.4.0 in /usr/local/lib/python3.7/dist-packages (from firebase-admin) (1.7.0)\n",
            "Requirement already satisfied: google-cloud-storage>=1.18.0 in /usr/local/lib/python3.7/dist-packages (from firebase-admin) (1.18.1)\n",
            "Requirement already satisfied: cachecontrol>=0.12.6 in /usr/local/lib/python3.7/dist-packages (from firebase-admin) (0.12.6)\n",
            "Requirement already satisfied: google-api-python-client>=1.7.8 in /usr/local/lib/python3.7/dist-packages (from firebase-admin) (1.12.8)\n",
            "Requirement already satisfied: google-api-core[grpc]<2.0.0dev,>=1.14.0 in /usr/local/lib/python3.7/dist-packages (from firebase-admin) (1.26.3)\n",
            "Requirement already satisfied: msgpack>=0.5.2 in /usr/local/lib/python3.7/dist-packages (from cachecontrol>=0.12.6->firebase-admin) (1.0.2)\n",
            "Requirement already satisfied: requests in /usr/local/lib/python3.7/dist-packages (from cachecontrol>=0.12.6->firebase-admin) (2.23.0)\n",
            "Requirement already satisfied: protobuf>=3.12.0 in /usr/local/lib/python3.7/dist-packages (from google-api-core[grpc]<2.0.0dev,>=1.14.0->firebase-admin) (3.17.3)\n",
            "Requirement already satisfied: setuptools>=40.3.0 in /usr/local/lib/python3.7/dist-packages (from google-api-core[grpc]<2.0.0dev,>=1.14.0->firebase-admin) (57.2.0)\n",
            "Requirement already satisfied: packaging>=14.3 in /usr/local/lib/python3.7/dist-packages (from google-api-core[grpc]<2.0.0dev,>=1.14.0->firebase-admin) (21.0)\n",
            "Requirement already satisfied: pytz in /usr/local/lib/python3.7/dist-packages (from google-api-core[grpc]<2.0.0dev,>=1.14.0->firebase-admin) (2018.9)\n",
            "Requirement already satisfied: six>=1.13.0 in /usr/local/lib/python3.7/dist-packages (from google-api-core[grpc]<2.0.0dev,>=1.14.0->firebase-admin) (1.15.0)\n",
            "Requirement already satisfied: googleapis-common-protos<2.0dev,>=1.6.0 in /usr/local/lib/python3.7/dist-packages (from google-api-core[grpc]<2.0.0dev,>=1.14.0->firebase-admin) (1.53.0)\n",
            "Requirement already satisfied: google-auth<2.0dev,>=1.21.1 in /usr/local/lib/python3.7/dist-packages (from google-api-core[grpc]<2.0.0dev,>=1.14.0->firebase-admin) (1.34.0)\n",
            "Requirement already satisfied: grpcio<2.0dev,>=1.29.0 in /usr/local/lib/python3.7/dist-packages (from google-api-core[grpc]<2.0.0dev,>=1.14.0->firebase-admin) (1.34.1)\n",
            "Requirement already satisfied: uritemplate<4dev,>=3.0.0 in /usr/local/lib/python3.7/dist-packages (from google-api-python-client>=1.7.8->firebase-admin) (3.0.1)\n",
            "Requirement already satisfied: httplib2<1dev,>=0.15.0 in /usr/local/lib/python3.7/dist-packages (from google-api-python-client>=1.7.8->firebase-admin) (0.17.4)\n",
            "Requirement already satisfied: google-auth-httplib2>=0.0.3 in /usr/local/lib/python3.7/dist-packages (from google-api-python-client>=1.7.8->firebase-admin) (0.0.4)\n",
            "Requirement already satisfied: pyasn1-modules>=0.2.1 in /usr/local/lib/python3.7/dist-packages (from google-auth<2.0dev,>=1.21.1->google-api-core[grpc]<2.0.0dev,>=1.14.0->firebase-admin) (0.2.8)\n",
            "Requirement already satisfied: cachetools<5.0,>=2.0.0 in /usr/local/lib/python3.7/dist-packages (from google-auth<2.0dev,>=1.21.1->google-api-core[grpc]<2.0.0dev,>=1.14.0->firebase-admin) (4.2.2)\n",
            "Requirement already satisfied: rsa<5,>=3.1.4 in /usr/local/lib/python3.7/dist-packages (from google-auth<2.0dev,>=1.21.1->google-api-core[grpc]<2.0.0dev,>=1.14.0->firebase-admin) (4.7.2)\n",
            "Requirement already satisfied: google-cloud-core<2.0dev,>=1.0.3 in /usr/local/lib/python3.7/dist-packages (from google-cloud-firestore>=1.4.0->firebase-admin) (1.0.3)\n",
            "Requirement already satisfied: google-resumable-media<0.5.0dev,>=0.3.1 in /usr/local/lib/python3.7/dist-packages (from google-cloud-storage>=1.18.0->firebase-admin) (0.4.1)\n",
            "Requirement already satisfied: pyparsing>=2.0.2 in /usr/local/lib/python3.7/dist-packages (from packaging>=14.3->google-api-core[grpc]<2.0.0dev,>=1.14.0->firebase-admin) (2.4.7)\n",
            "Requirement already satisfied: pyasn1<0.5.0,>=0.4.6 in /usr/local/lib/python3.7/dist-packages (from pyasn1-modules>=0.2.1->google-auth<2.0dev,>=1.21.1->google-api-core[grpc]<2.0.0dev,>=1.14.0->firebase-admin) (0.4.8)\n",
            "Requirement already satisfied: certifi>=2017.4.17 in /usr/local/lib/python3.7/dist-packages (from requests->cachecontrol>=0.12.6->firebase-admin) (2021.5.30)\n",
            "Requirement already satisfied: idna<3,>=2.5 in /usr/local/lib/python3.7/dist-packages (from requests->cachecontrol>=0.12.6->firebase-admin) (2.10)\n",
            "Requirement already satisfied: urllib3!=1.25.0,!=1.25.1,<1.26,>=1.21.1 in /usr/local/lib/python3.7/dist-packages (from requests->cachecontrol>=0.12.6->firebase-admin) (1.24.3)\n",
            "Requirement already satisfied: chardet<4,>=3.0.2 in /usr/local/lib/python3.7/dist-packages (from requests->cachecontrol>=0.12.6->firebase-admin) (3.0.4)\n"
          ],
          "name": "stdout"
        }
      ]
    },
    {
      "cell_type": "code",
      "metadata": {
        "colab": {
          "base_uri": "https://localhost:8080/"
        },
        "id": "GY0PVpN8WqGD",
        "outputId": "402f37ae-774b-439c-86ab-739097da3526"
      },
      "source": [
        "import firebase_admin\n",
        "from firebase_admin import credentials\n",
        "\n",
        "cred = credentials.Certificate('/content/drive/MyDrive/intellcapbot-firebase-adminsdk-gyxhm-394c38b13b.json')\n",
        "firebase_admin.initialize_app(cred, {\n",
        "    'databaseURL' : 'https://intellcapbot-default-rtdb.firebaseio.com'\n",
        "}) "
      ],
      "execution_count": null,
      "outputs": [
        {
          "output_type": "execute_result",
          "data": {
            "text/plain": [
              "<firebase_admin.App at 0x7f89336a6a50>"
            ]
          },
          "metadata": {
            "tags": []
          },
          "execution_count": 3
        }
      ]
    },
    {
      "cell_type": "code",
      "metadata": {
        "id": "WpE8lrb6lV1T"
      },
      "source": [
        "from firebase_admin import db\n",
        "\n",
        "ref = db.reference('/esp32-cam')"
      ],
      "execution_count": null,
      "outputs": []
    },
    {
      "cell_type": "code",
      "metadata": {
        "colab": {
          "base_uri": "https://localhost:8080/"
        },
        "id": "Ccwr0rjmfZHI",
        "outputId": "c3a1b68c-7056-4348-d031-206626bb5479"
      },
      "source": [
        "base64imagem = '{}'.format(ref.get())\n",
        "print(base64imagem)"
      ],
      "execution_count": null,
      "outputs": [
        {
          "output_type": "stream",
          "text": [
            "data:image/jpeg;base64,%2F9j%2F4AAQSkZJRgABAQEAAAAAAAD%2F2wBDAAoHCAkIBgoJCAkLCwoMDxkQDw4ODx8WFxIZJCAmJiQgIyIoLToxKCs2KyIjMkQzNjs9QEFAJzBHTEY%2FSzo%2FQD7%2F2wBDAQsLCw8NDx0QEB0%2BKSMpPj4%2BPj4%2BPj4%2BPj4%2BPj4%2BPj4%2BPj4%2BPj4%2BPj4%2BPj4%2BPj4%2BPj4%2BPj4%2BPj4%2BPj4%2BPj4%2BPj7%2FxAAfAAABBQEBAQEBAQAAAAAAAAAAAQIDBAUGBwgJCgv%2FxAC1EAACAQMDAgQDBQUEBAAAAX0BAgMABBEFEiExQQYTUWEHInEUMoGRoQgjQrHBFVLR8CQzYnKCCQoWFxgZGiUmJygpKjQ1Njc4OTpDREVGR0hJSlNUVVZXWFlaY2RlZmdoaWpzdHV2d3h5eoOEhYaHiImKkpOUlZaXmJmaoqOkpaanqKmqsrO0tba3uLm6wsPExcbHyMnK0tPU1dbX2Nna4eLj5OXm5%2Bjp6vHy8%2FT19vf4%2Bfr%2FxAAfAQADAQEBAQEBAQEBAAAAAAAAAQIDBAUGBwgJCgv%2FxAC1EQACAQIEBAMEBwUEBAABAncAAQIDEQQFITEGEkFRB2FxEyIygQgUQpGhscEJIzNS8BVictEKFiQ04SXxFxgZGiYnKCkqNTY3ODk6Q0RFRkdISUpTVFVWV1hZWmNkZWZnaGlqc3R1dnd4eXqCg4SFhoeIiYqSk5SVlpeYmZqio6Slpqeoqaqys7S1tre4ubrCw8TFxsfIycrS09TV1tfY2dri4%2BTl5ufo6ery8%2FT19vf4%2Bfr%2FwAARCAB4AKADASEAAhEBAxEB%2F9oADAMBAAIRAxEAPwBFhj%2FuL%2BVNu40%2Bzn92n%2FfNBz8pT0tU8zGxP%2B%2Ba3kjTH3E%2F75oluVYlESf3F%2F75qQRJ%2FwA80%2F75qCh4iT%2Fnmn%2FfNO8pP%2Beaf980DsL5af8APNP%2B%2BaPLT%2Fnmn%2FfNAWGGNP8Anmn%2FAHzUZjT%2FAJ5p%2FwB80wsRNGn9xP8AvmoWjT%2B4n%2FfNArIgeNP%2Beaf981C8af8APNP%2B%2BaoViBkT%2Fnmn%2FfIqB40%2F55p%2F3yKBWIHRP%2Beaf98iq0iJ%2FcT%2FAL5pk2OkFRXvEFIoo6TzOfrXRoKUtyiVRUqipGPAp2KBi4pNtADCtRsKAImFQsKoCu4qBhTEQPVd6BFZ6rSVRJ0oqjqUmEqVuAmiJn5q6BRUssmUVIBSGSAU7FIBaTFADSKiIpgRMKgamBXeq71Qiu9VpKBFZ6rPTJOk6DNYWozb5QinrSRSNvSYdkIrWWpGTKKlAqRkgFOxQMdikxQBGwqM0AQtUD0xFZ6rPVAV3qs9MkqvVZ6YjcvZhHHWJaqbq9z6Uho6%2B1TbGKtrUDJlqUUhkgp9IY6kIoAjIqNqAIGqu9UIrvVWSqArvVWSmIqyVVemSP1a53NsFX9BgwmTSkijpEqdagCZalFSUSCnigB1LQBG1QvTAgeq70wKz1VemIrvVSSqEVJKqyU0BVH%2BkXv412GnpsiFKW4GktTLUDJlqUVIEgp4oGOozSGMJqJqYiu9V3pgVpKqyUxFaSqklUBUkqpJTEO0aLdLuNdbBwtEtwLKmp1qBkq1KKkCUGng0hi5pM0AMJqJjTAgY1A5pgVpDVV6YitJVSQ1QFSQ1UkNMRp6PHsQVuIaTEWFNTKakomU1KDUjHg0%2FdSAXdSFqBkZNRsaYELGq7mmIrSGq7mmBVkNVJDTEVJDVVzVCOhsl2R1eU1IE6GplNICUGpQaRQ8NTs0hi7qTdSAYWqItTAhdqgdqAKztVdzVCKsjVVkNMRTkNVnNUB1EXAqZWpEEytUytUlkoapQ1IY8NTt1IYbqaWoAiEmRmmlqAIXaq7tTAhdqrSNTEVZGqpI1MRVc1XY1SA6hWqVWpEkoapVakUSq9Sh6kY4PT91Aw3UxnwKQEe7C4pjPSAgZqiZ6oCu7VWdqAKztVV2qySs5qBjTA6YGpFakQTK1SK1BRIGqQPUlDg9O8ykMN9QStKZY9hTYPv560AOL1GXoAjZ6gd6AKzvVd3piKzvVZ2pgQMahY1Qjow1SBqDNEqvUoakWSB6dvqRj99G%2BgYb6C9IYwvUbPQBCz1Cz0AV3eqztTEV3aoGNMCFjURNUI6ANUgagyRIGqRXpGg8SU%2FfQMdvpd9IYeZTTJSGMMlRs9AELPULPQIgZ6gZ6YiFmqFjTAiY1E1MR%2F%2FZAAAAAAAAAAAAAAAAAAAAAAAAAAAAAABiIWaoS1MRExqJjTA%2F%2F9kAf%2F%2FZAAAAAAAAAAAAAAAAAAAAAAAAAAAAAAAAAAAAAADZAAAAAAAAAAAAAAAAAAAA1SEV2NRE1QDCabTAZTaQH%2F%2FZAAAAAAAAAAAAAAAAAABpNNpgNpKQH%2F%2FZAAAAAAAAgQ2m0Af%2F2QAAAAAAAAAAAAH%2F2QAAAAAAAAAAAAAAAAAZptMBtJQA2koA%2F9kAAAAASm0Af%2F%2FZAAAAAAAAAAAAAA2m0Af%2F2QAA\n"
          ],
          "name": "stdout"
        }
      ]
    },
    {
      "cell_type": "code",
      "metadata": {
        "id": "Y1Bz_fQBhJpe"
      },
      "source": [
        "from PIL import Image\n",
        "from io import BytesIO\n",
        "import re, time, base64\n",
        "\n",
        "def getI420FromBase64(codec, image_path=\"c:\\\\\"):\n",
        "    base64_data = re.sub('^data:image/.+;base64,', '', codec)\n",
        "    byte_data = base64.b64decode(base64_data)\n",
        "    image_data = BytesIO(byte_data)\n",
        "    img = Image.open(image_data)\n",
        "    t = time.time()\n",
        "    img.save(image_path + str(t) + '.png', \"PNG\")\n",
        "\n",
        "codec = 'data:image/jpeg;base64,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'\n",
        "getI420FromBase64(codec)"
      ],
      "execution_count": 151,
      "outputs": []
    }
  ]
}