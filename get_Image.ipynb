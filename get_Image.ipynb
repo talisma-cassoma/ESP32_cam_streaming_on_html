{
  "nbformat": 4,
  "nbformat_minor": 0,
  "metadata": {
    "colab": {
      "name": "get_Image.ipynb",
      "provenance": [],
      "collapsed_sections": [],
      "mount_file_id": "1VTfsNDCDpPz-OmwSke0um70y6Cmifssk",
      "authorship_tag": "ABX9TyOAbC8K31J4AWuQvGu8Yoec",
      "include_colab_link": true
    },
    "kernelspec": {
      "name": "python3",
      "display_name": "Python 3"
    },
    "language_info": {
      "name": "python"
    }
  },
  "cells": [
    {
      "cell_type": "markdown",
      "metadata": {
        "id": "view-in-github",
        "colab_type": "text"
      },
      "source": [
        "<a href=\"https://colab.research.google.com/github/talisma-cassoma/intellcapBot/blob/main/get_Image.ipynb\" target=\"_parent\"><img src=\"https://colab.research.google.com/assets/colab-badge.svg\" alt=\"Open In Colab\"/></a>"
      ]
    },
    {
      "cell_type": "code",
      "metadata": {
        "id": "vm1yy2Wsjk0r",
        "colab": {
          "base_uri": "https://localhost:8080/"
        },
        "outputId": "00463dc3-cc53-4e1b-eb61-95d65746c2eb"
      },
      "source": [
        "!pip install firebase-admin"
      ],
      "execution_count": null,
      "outputs": [
        {
          "output_type": "stream",
          "text": [
            "Requirement already satisfied: firebase-admin in /usr/local/lib/python3.7/dist-packages (4.4.0)\n",
            "Requirement already satisfied: google-cloud-firestore>=1.4.0 in /usr/local/lib/python3.7/dist-packages (from firebase-admin) (1.7.0)\n",
            "Requirement already satisfied: google-cloud-storage>=1.18.0 in /usr/local/lib/python3.7/dist-packages (from firebase-admin) (1.18.1)\n",
            "Requirement already satisfied: cachecontrol>=0.12.6 in /usr/local/lib/python3.7/dist-packages (from firebase-admin) (0.12.6)\n",
            "Requirement already satisfied: google-api-python-client>=1.7.8 in /usr/local/lib/python3.7/dist-packages (from firebase-admin) (1.12.8)\n",
            "Requirement already satisfied: google-api-core[grpc]<2.0.0dev,>=1.14.0 in /usr/local/lib/python3.7/dist-packages (from firebase-admin) (1.26.3)\n",
            "Requirement already satisfied: msgpack>=0.5.2 in /usr/local/lib/python3.7/dist-packages (from cachecontrol>=0.12.6->firebase-admin) (1.0.2)\n",
            "Requirement already satisfied: requests in /usr/local/lib/python3.7/dist-packages (from cachecontrol>=0.12.6->firebase-admin) (2.23.0)\n",
            "Requirement already satisfied: protobuf>=3.12.0 in /usr/local/lib/python3.7/dist-packages (from google-api-core[grpc]<2.0.0dev,>=1.14.0->firebase-admin) (3.17.3)\n",
            "Requirement already satisfied: setuptools>=40.3.0 in /usr/local/lib/python3.7/dist-packages (from google-api-core[grpc]<2.0.0dev,>=1.14.0->firebase-admin) (57.2.0)\n",
            "Requirement already satisfied: packaging>=14.3 in /usr/local/lib/python3.7/dist-packages (from google-api-core[grpc]<2.0.0dev,>=1.14.0->firebase-admin) (21.0)\n",
            "Requirement already satisfied: pytz in /usr/local/lib/python3.7/dist-packages (from google-api-core[grpc]<2.0.0dev,>=1.14.0->firebase-admin) (2018.9)\n",
            "Requirement already satisfied: six>=1.13.0 in /usr/local/lib/python3.7/dist-packages (from google-api-core[grpc]<2.0.0dev,>=1.14.0->firebase-admin) (1.15.0)\n",
            "Requirement already satisfied: googleapis-common-protos<2.0dev,>=1.6.0 in /usr/local/lib/python3.7/dist-packages (from google-api-core[grpc]<2.0.0dev,>=1.14.0->firebase-admin) (1.53.0)\n",
            "Requirement already satisfied: google-auth<2.0dev,>=1.21.1 in /usr/local/lib/python3.7/dist-packages (from google-api-core[grpc]<2.0.0dev,>=1.14.0->firebase-admin) (1.34.0)\n",
            "Requirement already satisfied: grpcio<2.0dev,>=1.29.0 in /usr/local/lib/python3.7/dist-packages (from google-api-core[grpc]<2.0.0dev,>=1.14.0->firebase-admin) (1.34.1)\n",
            "Requirement already satisfied: uritemplate<4dev,>=3.0.0 in /usr/local/lib/python3.7/dist-packages (from google-api-python-client>=1.7.8->firebase-admin) (3.0.1)\n",
            "Requirement already satisfied: httplib2<1dev,>=0.15.0 in /usr/local/lib/python3.7/dist-packages (from google-api-python-client>=1.7.8->firebase-admin) (0.17.4)\n",
            "Requirement already satisfied: google-auth-httplib2>=0.0.3 in /usr/local/lib/python3.7/dist-packages (from google-api-python-client>=1.7.8->firebase-admin) (0.0.4)\n",
            "Requirement already satisfied: pyasn1-modules>=0.2.1 in /usr/local/lib/python3.7/dist-packages (from google-auth<2.0dev,>=1.21.1->google-api-core[grpc]<2.0.0dev,>=1.14.0->firebase-admin) (0.2.8)\n",
            "Requirement already satisfied: cachetools<5.0,>=2.0.0 in /usr/local/lib/python3.7/dist-packages (from google-auth<2.0dev,>=1.21.1->google-api-core[grpc]<2.0.0dev,>=1.14.0->firebase-admin) (4.2.2)\n",
            "Requirement already satisfied: rsa<5,>=3.1.4 in /usr/local/lib/python3.7/dist-packages (from google-auth<2.0dev,>=1.21.1->google-api-core[grpc]<2.0.0dev,>=1.14.0->firebase-admin) (4.7.2)\n",
            "Requirement already satisfied: google-cloud-core<2.0dev,>=1.0.3 in /usr/local/lib/python3.7/dist-packages (from google-cloud-firestore>=1.4.0->firebase-admin) (1.0.3)\n",
            "Requirement already satisfied: google-resumable-media<0.5.0dev,>=0.3.1 in /usr/local/lib/python3.7/dist-packages (from google-cloud-storage>=1.18.0->firebase-admin) (0.4.1)\n",
            "Requirement already satisfied: pyparsing>=2.0.2 in /usr/local/lib/python3.7/dist-packages (from packaging>=14.3->google-api-core[grpc]<2.0.0dev,>=1.14.0->firebase-admin) (2.4.7)\n",
            "Requirement already satisfied: pyasn1<0.5.0,>=0.4.6 in /usr/local/lib/python3.7/dist-packages (from pyasn1-modules>=0.2.1->google-auth<2.0dev,>=1.21.1->google-api-core[grpc]<2.0.0dev,>=1.14.0->firebase-admin) (0.4.8)\n",
            "Requirement already satisfied: certifi>=2017.4.17 in /usr/local/lib/python3.7/dist-packages (from requests->cachecontrol>=0.12.6->firebase-admin) (2021.5.30)\n",
            "Requirement already satisfied: idna<3,>=2.5 in /usr/local/lib/python3.7/dist-packages (from requests->cachecontrol>=0.12.6->firebase-admin) (2.10)\n",
            "Requirement already satisfied: urllib3!=1.25.0,!=1.25.1,<1.26,>=1.21.1 in /usr/local/lib/python3.7/dist-packages (from requests->cachecontrol>=0.12.6->firebase-admin) (1.24.3)\n",
            "Requirement already satisfied: chardet<4,>=3.0.2 in /usr/local/lib/python3.7/dist-packages (from requests->cachecontrol>=0.12.6->firebase-admin) (3.0.4)\n"
          ],
          "name": "stdout"
        }
      ]
    },
    {
      "cell_type": "code",
      "metadata": {
        "colab": {
          "base_uri": "https://localhost:8080/"
        },
        "id": "GY0PVpN8WqGD",
        "outputId": "402f37ae-774b-439c-86ab-739097da3526"
      },
      "source": [
        "import firebase_admin\n",
        "from firebase_admin import credentials\n",
        "\n",
        "cred = credentials.Certificate('/content/drive/MyDrive/intellcapbot-firebase-adminsdk-gyxhm-394c38b13b.json')\n",
        "firebase_admin.initialize_app(cred, {\n",
        "    'databaseURL' : 'https://intellcapbot-default-rtdb.firebaseio.com'\n",
        "}) "
      ],
      "execution_count": null,
      "outputs": [
        {
          "output_type": "execute_result",
          "data": {
            "text/plain": [
              "<firebase_admin.App at 0x7f89336a6a50>"
            ]
          },
          "metadata": {
            "tags": []
          },
          "execution_count": 3
        }
      ]
    },
    {
      "cell_type": "code",
      "metadata": {
        "id": "WpE8lrb6lV1T"
      },
      "source": [
        "from firebase_admin import db\n",
        "\n",
        "ref = db.reference('/esp32-cam')"
      ],
      "execution_count": null,
      "outputs": []
    },
    {
      "cell_type": "code",
      "metadata": {
        "colab": {
          "base_uri": "https://localhost:8080/"
        },
        "id": "Ccwr0rjmfZHI",
        "outputId": "c3a1b68c-7056-4348-d031-206626bb5479"
      },
      "source": [
        "base64imagem = '{}'.format(ref.get())\n",
        "print(base64imagem)"
      ],
      "execution_count": null,
      "outputs": [
        {
          "output_type": "stream",
          "text": [
            "data:image/jpeg;base64,%2F9j%2F4AAQSkZJRgABAQEAAAAAAAD%2F2wBDAAoHCAkIBgoJCAkLCwoMDxkQDw4ODx8WFxIZJCAmJiQgIyIoLToxKCs2KyIjMkQzNjs9QEFAJzBHTEY%2FSzo%2FQD7%2F2wBDAQsLCw8NDx0QEB0%2BKSMpPj4%2BPj4%2BPj4%2BPj4%2BPj4%2BPj4%2BPj4%2BPj4%2BPj4%2BPj4%2BPj4%2BPj4%2BPj4%2BPj4%2BPj4%2BPj4%2BPj7%2FxAAfAAABBQEBAQEBAQAAAAAAAAAAAQIDBAUGBwgJCgv%2FxAC1EAACAQMDAgQDBQUEBAAAAX0BAgMABBEFEiExQQYTUWEHInEUMoGRoQgjQrHBFVLR8CQzYnKCCQoWFxgZGiUmJygpKjQ1Njc4OTpDREVGR0hJSlNUVVZXWFlaY2RlZmdoaWpzdHV2d3h5eoOEhYaHiImKkpOUlZaXmJmaoqOkpaanqKmqsrO0tba3uLm6wsPExcbHyMnK0tPU1dbX2Nna4eLj5OXm5%2Bjp6vHy8%2FT19vf4%2Bfr%2FxAAfAQADAQEBAQEBAQEBAAAAAAAAAQIDBAUGBwgJCgv%2FxAC1EQACAQIEBAMEBwUEBAABAncAAQIDEQQFITEGEkFRB2FxEyIygQgUQpGhscEJIzNS8BVictEKFiQ04SXxFxgZGiYnKCkqNTY3ODk6Q0RFRkdISUpTVFVWV1hZWmNkZWZnaGlqc3R1dnd4eXqCg4SFhoeIiYqSk5SVlpeYmZqio6Slpqeoqaqys7S1tre4ubrCw8TFxsfIycrS09TV1tfY2dri4%2BTl5ufo6ery8%2FT19vf4%2Bfr%2FwAARCAB4AKADASEAAhEBAxEB%2F9oADAMBAAIRAxEAPwBFhj%2FuL%2BVNu40%2Bzn92n%2FfNBz8pT0tU8zGxP%2B%2Ba3kjTH3E%2F75oluVYlESf3F%2F75qQRJ%2FwA80%2F75qCh4iT%2Fnmn%2FfNO8pP%2Beaf980DsL5af8APNP%2B%2BaPLT%2Fnmn%2FfNAWGGNP8Anmn%2FAHzUZjT%2FAJ5p%2FwB80wsRNGn9xP8AvmoWjT%2B4n%2FfNArIgeNP%2Beaf981C8af8APNP%2B%2BaoViBkT%2Fnmn%2FfIqB40%2F55p%2F3yKBWIHRP%2Beaf98iq0iJ%2FcT%2FAL5pk2OkFRXvEFIoo6TzOfrXRoKUtyiVRUqipGPAp2KBi4pNtADCtRsKAImFQsKoCu4qBhTEQPVd6BFZ6rSVRJ0oqjqUmEqVuAmiJn5q6BRUssmUVIBSGSAU7FIBaTFADSKiIpgRMKgamBXeq71Qiu9VpKBFZ6rPTJOk6DNYWozb5QinrSRSNvSYdkIrWWpGTKKlAqRkgFOxQMdikxQBGwqM0AQtUD0xFZ6rPVAV3qs9MkqvVZ6YjcvZhHHWJaqbq9z6Uho6%2B1TbGKtrUDJlqUUhkgp9IY6kIoAjIqNqAIGqu9UIrvVWSqArvVWSmIqyVVemSP1a53NsFX9BgwmTSkijpEqdagCZalFSUSCnigB1LQBG1QvTAgeq70wKz1VemIrvVSSqEVJKqyU0BVH%2BkXv412GnpsiFKW4GktTLUDJlqUVIEgp4oGOozSGMJqJqYiu9V3pgVpKqyUxFaSqklUBUkqpJTEO0aLdLuNdbBwtEtwLKmp1qBkq1KKkCUGng0hi5pM0AMJqJjTAgY1A5pgVpDVV6YitJVSQ1QFSQ1UkNMRp6PHsQVuIaTEWFNTKakomU1KDUjHg0%2FdSAXdSFqBkZNRsaYELGq7mmIrSGq7mmBVkNVJDTEVJDVVzVCOhsl2R1eU1IE6GplNICUGpQaRQ8NTs0hi7qTdSAYWqItTAhdqgdqAKztVdzVCKsjVVkNMRTkNVnNUB1EXAqZWpEEytUytUlkoapQ1IY8NTt1IYbqaWoAiEmRmmlqAIXaq7tTAhdqrSNTEVZGqpI1MRVc1XY1SA6hWqVWpEkoapVakUSq9Sh6kY4PT91Aw3UxnwKQEe7C4pjPSAgZqiZ6oCu7VWdqAKztVV2qySs5qBjTA6YGpFakQTK1SK1BRIGqQPUlDg9O8ykMN9QStKZY9hTYPv560AOL1GXoAjZ6gd6AKzvVd3piKzvVZ2pgQMahY1Qjow1SBqDNEqvUoakWSB6dvqRj99G%2BgYb6C9IYwvUbPQBCz1Cz0AV3eqztTEV3aoGNMCFjURNUI6ANUgagyRIGqRXpGg8SU%2FfQMdvpd9IYeZTTJSGMMlRs9AELPULPQIgZ6gZ6YiFmqFjTAiY1E1MR%2F%2FZAAAAAAAAAAAAAAAAAAAAAAAAAAAAAABiIWaoS1MRExqJjTA%2F%2F9kAf%2F%2FZAAAAAAAAAAAAAAAAAAAAAAAAAAAAAAAAAAAAAADZAAAAAAAAAAAAAAAAAAAA1SEV2NRE1QDCabTAZTaQH%2F%2FZAAAAAAAAAAAAAAAAAABpNNpgNpKQH%2F%2FZAAAAAAAAgQ2m0Af%2F2QAAAAAAAAAAAAH%2F2QAAAAAAAAAAAAAAAAAZptMBtJQA2koA%2F9kAAAAASm0Af%2F%2FZAAAAAAAAAAAAAA2m0Af%2F2QAA\n"
          ],
          "name": "stdout"
        }
      ]
    },
    {
      "cell_type": "code",
      "metadata": {
        "id": "Y1Bz_fQBhJpe"
      },
      "source": [
        "from PIL import Image\n",
        "from io import BytesIO\n",
        "import re, time, base64\n",
        "from PIL import Image\n",
        "import numpy as np\n",
        "\n",
        "\n",
        "def getI420FromBase64(base64_img_url, image_path=\"newImage\"):\n",
        "\n",
        "    #Using standard Base64 in URL requires encoding of '+', '/' and '=' characters into special percent-encoded hexadecimal \n",
        "    #sequences ('+' becomes '%2B', '/' becomes '%2F' and '=' becomes '%3D'), which makes the string unnecessarily longer.\n",
        "    # see more at https://en.wikipedia.org/wiki/Percent-encoding\n",
        "    if (base64_img_url.find(\"%\")!=-1):\n",
        "      #Replace \"%2F\" par  \"/\"\n",
        "      base64_img_url = base64_img_url.replace(\"%2F\", \"/\")\n",
        "      base64_img_url = base64_img_url.replace(\"%2B\", \"+\")\n",
        "      #base64_img_url = base64_img_url.replace(\"%3D\", \"=\")\n",
        "\n",
        "    base64_data = re.sub('^data:image/.+;base64,', '', base64_img_url)\n",
        "    \n",
        "    byte_data = base64.b64decode(base64_data)         #string to binary image\n",
        "    \n",
        "    im_arr = np.frombuffer(byte_data, dtype=np.uint8) # byte to numpy array\n",
        "  \n",
        "    image_data = BytesIO(byte_data)                   # image to file-like object    \n",
        "    \n",
        "    img = Image.open(image_data)\n",
        "    #np.set_printoptions(threshold=np.inf)\n",
        "    #print(im_arr)\n",
        "    t = time.time()\n",
        "    img.show()\n",
        "    img.save('saved.png', \"PNG\")\n",
        "\n",
        "base64_img_url = 'data:image/jpeg;base64,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'\n",
        "getI420FromBase64(base64_img_url)\n"
      ],
      "execution_count": 13,
      "outputs": []
    }
  ]
}